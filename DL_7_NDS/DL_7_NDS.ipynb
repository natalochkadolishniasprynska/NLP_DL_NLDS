{
  "cells": [
    {
      "cell_type": "markdown",
      "id": "f88cf33c-567b-4722-9438-a7c5e7a0b1f6",
      "metadata": {
        "id": "f88cf33c-567b-4722-9438-a7c5e7a0b1f6"
      },
      "source": [
        "## Intro\n",
        "\n",
        "1. Concept of attention was introduced in [Bahdanau paper](https://arxiv.org/abs/1409.0473). Idea was to improve Recurrent Neural networks used in the context of machine translation, so that we do not translate word-by-word, but rather have access to all sequence elements at each time step.\n",
        "   ![sentence translation](img/sentence.png)\n",
        "2. Moreover, attention is selective and attributes different weights to different words in the sequence. Using the context notation:\n",
        "   $$\n",
        "   c_i = \\sum\\limits_{j=1}^{T_x} \\alpha_{ij} h_j\n",
        "   $$\n",
        "3. Transformer architecture was later introduced in [\"Attention is all you need\" paper](https://arxiv.org/pdf/1706.03762), removing the need for RNNs altogether by utilising the concept of self-attention.\n",
        "   ![self attention](img/self_attention.png)\n",
        "4. Self-attention essentially adds additional context information to each input. This context information is used by the model in order to adjust the relative impact of each word on the resulting output.\n",
        "5. There are many types of self-attention mechanisms, the original one is named \"scaled dot-product attention\"."
      ]
    },
    {
      "cell_type": "markdown",
      "id": "05a51f58-ab70-4ebc-a157-620c32f9193a",
      "metadata": {
        "id": "05a51f58-ab70-4ebc-a157-620c32f9193a"
      },
      "source": [
        "## Implementation Steps"
      ]
    },
    {
      "cell_type": "markdown",
      "id": "fa17f0a1-17ea-4ad6-a605-43b0c2e2f812",
      "metadata": {
        "id": "fa17f0a1-17ea-4ad6-a605-43b0c2e2f812"
      },
      "source": [
        "### 1. Embedding"
      ]
    },
    {
      "cell_type": "markdown",
      "id": "ebed4c02-fcd2-4680-98ee-571d13ed5646",
      "metadata": {
        "id": "ebed4c02-fcd2-4680-98ee-571d13ed5646"
      },
      "source": [
        "Let's consider a simple sentence:"
      ]
    },
    {
      "cell_type": "code",
      "execution_count": 164,
      "id": "a71fc4a5-4027-4f4d-a5e7-a8c6dea7349d",
      "metadata": {
        "id": "a71fc4a5-4027-4f4d-a5e7-a8c6dea7349d"
      },
      "outputs": [],
      "source": [
        "sentence = 'Life is short, eat dessert first'"
      ]
    },
    {
      "cell_type": "markdown",
      "id": "8ea3ab09-0448-40fb-8e88-658218ac1607",
      "metadata": {
        "id": "8ea3ab09-0448-40fb-8e88-658218ac1607"
      },
      "source": [
        "Let's pretend that our vocabulary consists *only* of the words in the sentence above. We construct it via:\n"
      ]
    },
    {
      "cell_type": "code",
      "execution_count": 165,
      "id": "295a3f80-d1b2-4258-9771-4226b3b0c4a7",
      "metadata": {
        "colab": {
          "base_uri": "https://localhost:8080/"
        },
        "id": "295a3f80-d1b2-4258-9771-4226b3b0c4a7",
        "outputId": "5b08eebb-4c95-4a23-f6fb-054db41b1acd"
      },
      "outputs": [
        {
          "output_type": "stream",
          "name": "stdout",
          "text": [
            "{'Life': 0, 'dessert': 1, 'eat': 2, 'first': 3, 'is': 4, 'short': 5}\n"
          ]
        }
      ],
      "source": [
        "dc = {s:i for i,s in enumerate(sorted(sentence.replace(',', '').split()))}\n",
        "print(dc)"
      ]
    },
    {
      "cell_type": "markdown",
      "id": "fb91ebe0-3629-4047-87a5-877a70785a7d",
      "metadata": {
        "id": "fb91ebe0-3629-4047-87a5-877a70785a7d"
      },
      "source": [
        "Now we can use this dictionary to assign an index to each word:"
      ]
    },
    {
      "cell_type": "code",
      "execution_count": 166,
      "id": "024f0766-1b51-4108-99f7-c09f55908abb",
      "metadata": {
        "colab": {
          "base_uri": "https://localhost:8080/"
        },
        "id": "024f0766-1b51-4108-99f7-c09f55908abb",
        "outputId": "ba499a4e-f4e8-431e-d282-d2ef54f64733"
      },
      "outputs": [
        {
          "output_type": "stream",
          "name": "stdout",
          "text": [
            "tensor([0, 4, 5, 2, 1, 3])\n"
          ]
        }
      ],
      "source": [
        "import torch\n",
        "\n",
        "sentence_int = torch.tensor([dc[s] for s in sentence.replace(',', '').split()])\n",
        "print(sentence_int)"
      ]
    },
    {
      "cell_type": "markdown",
      "id": "3fc1cf72-b06f-4d87-893b-eb6c9e13ab43",
      "metadata": {
        "id": "3fc1cf72-b06f-4d87-893b-eb6c9e13ab43"
      },
      "source": [
        "By now, we already have a vocabulary, `dc`, and a vector representation of the sentence, `sentence_int`. Let's use PyTorch's `Embedding` layer to construct an embedding for the sentence:"
      ]
    },
    {
      "cell_type": "code",
      "execution_count": 167,
      "id": "07c80cf2-394b-4f43-96fd-a68af315158b",
      "metadata": {
        "colab": {
          "base_uri": "https://localhost:8080/"
        },
        "id": "07c80cf2-394b-4f43-96fd-a68af315158b",
        "outputId": "12ee5d05-195e-4f6a-fed4-57026ef40147"
      },
      "outputs": [
        {
          "output_type": "stream",
          "name": "stdout",
          "text": [
            "tensor([[ 0.3374, -0.1778, -0.3035, -0.5880,  0.3486,  0.6603, -0.2196, -0.3792,\n",
            "          0.7671, -1.1925,  0.6984, -1.4097,  0.1794,  1.8951,  0.4954,  0.2692],\n",
            "        [ 0.5146,  0.9938, -0.2587, -1.0826, -0.0444,  1.6236, -2.3229,  1.0878,\n",
            "          0.6716,  0.6933, -0.9487, -0.0765, -0.1526,  0.1167,  0.4403, -1.4465],\n",
            "        [ 0.2553, -0.5496,  1.0042,  0.8272, -0.3948,  0.4892, -0.2168, -1.7472,\n",
            "         -1.6025, -1.0764,  0.9031, -0.7218, -0.5951, -0.7112,  0.6230, -1.3729],\n",
            "        [-1.3250,  0.1784, -2.1338,  1.0524, -0.3885, -0.9343, -0.4991, -1.0867,\n",
            "          0.8805,  1.5542,  0.6266, -0.1755,  0.0983, -0.0935,  0.2662, -0.5850],\n",
            "        [-0.0770, -1.0205, -0.1690,  0.9178,  1.5810,  1.3010,  1.2753, -0.2010,\n",
            "          0.4965, -1.5723,  0.9666, -1.1481, -1.1589,  0.3255, -0.6315, -2.8400],\n",
            "        [ 0.8768,  1.6221, -1.4779,  1.1331, -1.2203,  1.3139,  1.0533,  0.1388,\n",
            "          2.2473, -0.8036, -0.2808,  0.7697, -0.6596, -0.7979,  0.1838,  0.2293]])\n",
            "torch.Size([6, 16])\n"
          ]
        }
      ],
      "source": [
        "torch.manual_seed(123)\n",
        "embed = torch.nn.Embedding(6, 16)\n",
        "embedded_sentence = embed(sentence_int).detach()\n",
        "\n",
        "print(embedded_sentence)\n",
        "print(embedded_sentence.shape)"
      ]
    },
    {
      "cell_type": "markdown",
      "id": "4abc1518-e928-47b7-b4ef-5ccc35e9bfba",
      "metadata": {
        "id": "4abc1518-e928-47b7-b4ef-5ccc35e9bfba"
      },
      "source": [
        "### 2. Weight matrices"
      ]
    },
    {
      "cell_type": "markdown",
      "id": "a3170c8d-fbbb-4d28-9cd6-2de13d15efe4",
      "metadata": {
        "id": "a3170c8d-fbbb-4d28-9cd6-2de13d15efe4"
      },
      "source": [
        "Self-attention relies on query, key, and value weight matrices.\n",
        "\n",
        "We'll denote them by $W_q$, $W_k$, and $W_v$, respectively.\n",
        "\n",
        "Two important things to keep mind:\n",
        "1. These are model parameters, therefore, are being **adjusted during training**.\n",
        "2. They are multiplied with inputs in order to obtain query, key, and value sequences via:\n",
        "   - Query sequence: $q^{(i)} = W_q x^{(i)}, \\; i = \\overline{0,T}$\n",
        "   - Key sequence: $k^{(i)} = W_k x^{(i)}, \\; i = \\overline{0,T}$\n",
        "   - Value sequence: $v^{(i)} = W_v x^{(i)}, \\; i = \\overline{0,T}$\n",
        "     \n",
        "   Here $T$ is the length of the input sequence.\n",
        "\n",
        "A visual representation:\n",
        "\n",
        "![attention matrices](img/attention-matrices.png)"
      ]
    },
    {
      "cell_type": "markdown",
      "id": "abba8747-9a22-4ea6-8e17-bc3c05a5a022",
      "metadata": {
        "id": "abba8747-9a22-4ea6-8e17-bc3c05a5a022"
      },
      "source": [
        "**Dimensions** of these are:\n",
        "- $x^{(i)}$ have length $d$\n",
        "- $W_q$ and $W_k$ are $d_k \\times d$\n",
        "- $W_v$ is $d_v \\times d$\n",
        "- $q^{(i)}$ and $q^{(i)}$ have lengths $d_k$\n",
        "- $q^{(i)}$ has length $d_v$"
      ]
    },
    {
      "cell_type": "markdown",
      "id": "0c61ae34-1310-4f05-b93d-525a185f0667",
      "metadata": {
        "id": "0c61ae34-1310-4f05-b93d-525a185f0667"
      },
      "source": [
        "**Note:** since we will be computing a product of query and key vectors $q^{(i)}$ and $k^{(i)}$, their dimensions are identical.\n",
        "\n",
        "Now the code:"
      ]
    },
    {
      "cell_type": "code",
      "execution_count": 168,
      "id": "e71e5e57-2d2d-4201-9fcc-c7c9324f70ec",
      "metadata": {
        "id": "e71e5e57-2d2d-4201-9fcc-c7c9324f70ec"
      },
      "outputs": [],
      "source": [
        "torch.manual_seed(123)\n",
        "\n",
        "d = embedded_sentence.shape[1]\n",
        "\n",
        "d_q, d_k, d_v = 24, 24, 28\n",
        "\n",
        "W_query = torch.nn.Parameter(torch.rand(d_q, d))\n",
        "W_key = torch.nn.Parameter(torch.rand(d_k, d))\n",
        "W_value = torch.nn.Parameter(torch.rand(d_v, d))"
      ]
    },
    {
      "cell_type": "markdown",
      "id": "349e5d13-ba5f-4f9d-8656-e42ee6f5f083",
      "metadata": {
        "id": "349e5d13-ba5f-4f9d-8656-e42ee6f5f083"
      },
      "source": [
        "Let's compute the sequences for the **second input element**. It will act as a **query element** for subsequent computations, that is why it's shaded:\n",
        "\n",
        "![second_input](img/second_input_computation.png)"
      ]
    },
    {
      "cell_type": "code",
      "execution_count": 169,
      "id": "f839977e-2cf6-4fd8-aed8-c27f6d7d1dab",
      "metadata": {
        "colab": {
          "base_uri": "https://localhost:8080/"
        },
        "id": "f839977e-2cf6-4fd8-aed8-c27f6d7d1dab",
        "outputId": "5b8675cf-fefa-489e-db2f-689ca6493a7c"
      },
      "outputs": [
        {
          "output_type": "stream",
          "name": "stdout",
          "text": [
            "torch.Size([24])\n",
            "torch.Size([24])\n",
            "torch.Size([28])\n"
          ]
        }
      ],
      "source": [
        "x_2 = embedded_sentence[1]\n",
        "query_2 = W_query.matmul(x_2)\n",
        "key_2 = W_key.matmul(x_2)\n",
        "value_2 = W_value.matmul(x_2)\n",
        "\n",
        "print(query_2.shape)\n",
        "print(key_2.shape)\n",
        "print(value_2.shape)"
      ]
    },
    {
      "cell_type": "markdown",
      "id": "d6a40f91-6c35-4af7-8039-3721f81f7b1f",
      "metadata": {
        "id": "d6a40f91-6c35-4af7-8039-3721f81f7b1f"
      },
      "source": [
        "We can generalize the computation of key and value matrices for all sequence elements:"
      ]
    },
    {
      "cell_type": "code",
      "execution_count": 170,
      "id": "dd52be47-9648-4be3-8990-7249cf65538e",
      "metadata": {
        "colab": {
          "base_uri": "https://localhost:8080/"
        },
        "id": "dd52be47-9648-4be3-8990-7249cf65538e",
        "outputId": "d07041a8-5947-431d-fa4d-2b27f1215903"
      },
      "outputs": [
        {
          "output_type": "stream",
          "name": "stdout",
          "text": [
            "keys.shape: torch.Size([6, 24])\n",
            "values.shape: torch.Size([6, 28])\n"
          ]
        }
      ],
      "source": [
        "keys = W_key.matmul(embedded_sentence.T).T\n",
        "values = W_value.matmul(embedded_sentence.T).T\n",
        "\n",
        "print(\"keys.shape:\", keys.shape)\n",
        "print(\"values.shape:\", values.shape)"
      ]
    },
    {
      "cell_type": "markdown",
      "id": "dc16a017-4e16-43b9-852f-52498e9fb571",
      "metadata": {
        "id": "dc16a017-4e16-43b9-852f-52498e9fb571"
      },
      "source": [
        "### 3. Attention weights"
      ]
    },
    {
      "cell_type": "markdown",
      "id": "7e1da4d9-327a-4cf5-b32d-a9d6192ff6b5",
      "metadata": {
        "id": "7e1da4d9-327a-4cf5-b32d-a9d6192ff6b5"
      },
      "source": [
        "Now we can compute **unnormalized attention weights** $\\omega$. These are defined as a product of query and key vectors:\n",
        "$$\n",
        "\\omega_{ij} = q^{(i)T} k^{(j)}\n",
        "$$\n",
        "\n",
        "![attention weights](img/attention-weights.png)"
      ]
    },
    {
      "cell_type": "markdown",
      "id": "4581850f-9c06-4b06-abde-a687069b2016",
      "metadata": {
        "id": "4581850f-9c06-4b06-abde-a687069b2016"
      },
      "source": [
        "For instance, the computation of our query element and fifth key element is performed via:"
      ]
    },
    {
      "cell_type": "code",
      "execution_count": 171,
      "id": "35066226-1566-4c7a-8ad7-2bdaf66eb597",
      "metadata": {
        "colab": {
          "base_uri": "https://localhost:8080/"
        },
        "id": "35066226-1566-4c7a-8ad7-2bdaf66eb597",
        "outputId": "67eff738-cf19-4058-b444-b2fd8bbb88f3"
      },
      "outputs": [
        {
          "output_type": "stream",
          "name": "stdout",
          "text": [
            "tensor(11.1466, grad_fn=<DotBackward0>)\n"
          ]
        }
      ],
      "source": [
        "omega_25 = query_2.dot(keys[4])\n",
        "print(omega_25)"
      ]
    },
    {
      "cell_type": "markdown",
      "id": "f8654002-85d3-4f8c-96d6-6895455ed00a",
      "metadata": {
        "id": "f8654002-85d3-4f8c-96d6-6895455ed00a"
      },
      "source": [
        "In matrix form:"
      ]
    },
    {
      "cell_type": "code",
      "execution_count": 172,
      "id": "596f5b08-3b13-4592-ad27-60b08ffb3c0c",
      "metadata": {
        "colab": {
          "base_uri": "https://localhost:8080/"
        },
        "id": "596f5b08-3b13-4592-ad27-60b08ffb3c0c",
        "outputId": "5e6ad0ce-9fb3-43d0-869b-684314117094"
      },
      "outputs": [
        {
          "output_type": "stream",
          "name": "stdout",
          "text": [
            "tensor([ 8.5808, -7.6597,  3.2558,  1.0395, 11.1466, -0.4800],\n",
            "       grad_fn=<SqueezeBackward4>)\n"
          ]
        }
      ],
      "source": [
        "omega_2 = query_2.matmul(keys.T)\n",
        "print(omega_2)"
      ]
    },
    {
      "cell_type": "markdown",
      "id": "120d586e-63b9-49ce-a84b-027f536857c4",
      "metadata": {
        "id": "120d586e-63b9-49ce-a84b-027f536857c4"
      },
      "source": [
        "### 4. Attention scores"
      ]
    },
    {
      "cell_type": "markdown",
      "id": "98cd8fca-16d8-4c1c-93f0-5ea85945c691",
      "metadata": {
        "id": "98cd8fca-16d8-4c1c-93f0-5ea85945c691"
      },
      "source": [
        "Now we need to normalize the unnormalized attention weights $\\omega$. We will denote **normalized attention weights** by $\\alpha_{ij}$.\n",
        "\n",
        "Normalization is done in two steps:\n",
        "1. Divide $\\omega_{ij}$ by $\\sqrt{d_k}$, so that the length of weight vectors is within a certain amount.\n",
        "2. Apply softmax to the above.\n",
        "\n",
        "Visual representation:\n",
        "\n",
        "![attention scores](img/attention-scores.png)"
      ]
    },
    {
      "cell_type": "markdown",
      "id": "5ec82481-fda1-413a-80d1-5ef637cc7dbd",
      "metadata": {
        "id": "5ec82481-fda1-413a-80d1-5ef637cc7dbd"
      },
      "source": [
        "The code for the computation described above:"
      ]
    },
    {
      "cell_type": "code",
      "execution_count": 173,
      "id": "76276d06-74bb-40a4-9949-48e0051b16a2",
      "metadata": {
        "colab": {
          "base_uri": "https://localhost:8080/"
        },
        "id": "76276d06-74bb-40a4-9949-48e0051b16a2",
        "outputId": "69ac2b51-42e5-408f-8075-8bf7d60cc9b1"
      },
      "outputs": [
        {
          "output_type": "stream",
          "name": "stdout",
          "text": [
            "tensor([0.2912, 0.0106, 0.0982, 0.0625, 0.4917, 0.0458],\n",
            "       grad_fn=<SoftmaxBackward0>)\n"
          ]
        }
      ],
      "source": [
        "import torch.nn.functional as F\n",
        "\n",
        "attention_weights_2 = F.softmax(omega_2 / d_k**0.5, dim=0)\n",
        "print(attention_weights_2)"
      ]
    },
    {
      "cell_type": "markdown",
      "id": "34d7b49f-0d24-45f9-a1b8-5fb23030d4c1",
      "metadata": {
        "id": "34d7b49f-0d24-45f9-a1b8-5fb23030d4c1"
      },
      "source": [
        "### 5. Context vector"
      ]
    },
    {
      "cell_type": "markdown",
      "id": "9cb00903-0ef7-4942-a604-dddbceeecef8",
      "metadata": {
        "id": "9cb00903-0ef7-4942-a604-dddbceeecef8"
      },
      "source": [
        "And now the value vectors $v^{(i)}$ finally come into play. We will use them to compute a context vector $z^{(2)}$ for current input $x^{(2)}$ and current query $q^{(2)}$:\n",
        "$$\n",
        "z^{(2)} = \\sum\\limits_{j=1}^T \\alpha_{2,j} v^{(j)}\n",
        "$$\n",
        "\n",
        "![context_vector](img/context-vector.png)"
      ]
    },
    {
      "cell_type": "markdown",
      "id": "c08b3bc1-4ccb-4197-b4c5-3f1dcbd992e5",
      "metadata": {
        "id": "c08b3bc1-4ccb-4197-b4c5-3f1dcbd992e5"
      },
      "source": [
        "The code:"
      ]
    },
    {
      "cell_type": "code",
      "execution_count": 174,
      "id": "ea2a1c76-1b3f-4641-aa41-6514329b2c70",
      "metadata": {
        "colab": {
          "base_uri": "https://localhost:8080/"
        },
        "id": "ea2a1c76-1b3f-4641-aa41-6514329b2c70",
        "outputId": "c45cb4d9-7cc1-47ab-d02f-e9ef0e7b8ee1"
      },
      "outputs": [
        {
          "output_type": "stream",
          "name": "stdout",
          "text": [
            "torch.Size([28])\n",
            "tensor([-1.5993,  0.0156,  1.2670,  0.0032, -0.6460, -1.1407, -0.4908, -1.4632,\n",
            "         0.4747,  1.1926,  0.4506, -0.7110,  0.0602,  0.7125, -0.1628, -2.0184,\n",
            "         0.3838, -2.1188, -0.8136, -1.5694,  0.7934, -0.2911, -1.3640, -0.2366,\n",
            "        -0.9564, -0.5265,  0.0624,  1.7084], grad_fn=<SqueezeBackward4>)\n"
          ]
        }
      ],
      "source": [
        "context_vector_2 = attention_weights_2.matmul(values)\n",
        "\n",
        "print(context_vector_2.shape)\n",
        "print(context_vector_2)"
      ]
    },
    {
      "cell_type": "markdown",
      "id": "098342bd-8091-4756-8fa4-9cc915efa408",
      "metadata": {
        "id": "098342bd-8091-4756-8fa4-9cc915efa408"
      },
      "source": [
        "To summarize, below are the computations and dimensions of different tensors involved in the process:\n",
        "\n",
        "![summary](img/summary.png)"
      ]
    },
    {
      "cell_type": "markdown",
      "id": "fcb2bcfb-0eee-40d7-8345-2b6e414a60ba",
      "metadata": {
        "id": "fcb2bcfb-0eee-40d7-8345-2b6e414a60ba"
      },
      "source": [
        "### 6. Multi-head attention"
      ]
    },
    {
      "cell_type": "markdown",
      "id": "6d2eabf4-701d-44b8-a93f-35f159f9e0b7",
      "metadata": {
        "id": "6d2eabf4-701d-44b8-a93f-35f159f9e0b7"
      },
      "source": [
        "So far we've implemented single-head attention model. \"Single-head\" means that we utilized a single set of (query, key, value) matrices:\n",
        "\n",
        "![single-head](img/single-head.png)"
      ]
    },
    {
      "cell_type": "markdown",
      "id": "ad3d0315-3590-4af3-af7d-c63b207d99a9",
      "metadata": {
        "id": "ad3d0315-3590-4af3-af7d-c63b207d99a9"
      },
      "source": [
        "In multi-head attention, we use several sets of such matrices. This is similar to using multiple kernels (or filters) in convolutional neural networks:\n",
        "\n",
        "![multi-head](img/multi-head.png)"
      ]
    },
    {
      "cell_type": "markdown",
      "id": "808fd733-66a1-4ec1-8354-e22ee606254e",
      "metadata": {
        "id": "808fd733-66a1-4ec1-8354-e22ee606254e"
      },
      "source": [
        "Let's suppose we have $h=3$ attention heads. In code this will be:"
      ]
    },
    {
      "cell_type": "code",
      "execution_count": 175,
      "id": "f3e78146-befe-4b1d-87b5-0cfaef2b9efb",
      "metadata": {
        "id": "f3e78146-befe-4b1d-87b5-0cfaef2b9efb"
      },
      "outputs": [],
      "source": [
        "h = 3\n",
        "multihead_W_query = torch.nn.Parameter(torch.rand(h, d_q, d))\n",
        "multihead_W_key = torch.nn.Parameter(torch.rand(h, d_k, d))\n",
        "multihead_W_value = torch.nn.Parameter(torch.rand(h, d_v, d))"
      ]
    },
    {
      "cell_type": "markdown",
      "id": "717112e1-0547-4c45-aee9-7f55e1887f01",
      "metadata": {
        "id": "717112e1-0547-4c45-aee9-7f55e1887f01"
      },
      "source": [
        "Let's again consider $x^{(2)}$. Each query element will now be $3 \\times d_q$-dimensional:"
      ]
    },
    {
      "cell_type": "code",
      "execution_count": 176,
      "id": "f565dc72-8a74-4cd9-bbcc-f57259d3b9b7",
      "metadata": {
        "colab": {
          "base_uri": "https://localhost:8080/"
        },
        "id": "f565dc72-8a74-4cd9-bbcc-f57259d3b9b7",
        "outputId": "6900df16-08bb-4aed-e2cb-acd43025d682"
      },
      "outputs": [
        {
          "output_type": "stream",
          "name": "stdout",
          "text": [
            "torch.Size([3, 24])\n"
          ]
        }
      ],
      "source": [
        "multihead_query_2 = multihead_W_query.matmul(x_2)\n",
        "print(multihead_query_2.shape)"
      ]
    },
    {
      "cell_type": "markdown",
      "id": "b4bf609f-421a-4488-86e0-2790049104c8",
      "metadata": {
        "id": "b4bf609f-421a-4488-86e0-2790049104c8"
      },
      "source": [
        "Key and value sequences are obtained via:"
      ]
    },
    {
      "cell_type": "code",
      "execution_count": 177,
      "id": "90ad446f-4ae1-4aca-8d98-7d775b6705c8",
      "metadata": {
        "id": "90ad446f-4ae1-4aca-8d98-7d775b6705c8"
      },
      "outputs": [],
      "source": [
        "multihead_key_2 = multihead_W_key.matmul(x_2)\n",
        "multihead_value_2 = multihead_W_value.matmul(x_2)"
      ]
    },
    {
      "cell_type": "markdown",
      "id": "258aba4f-1193-40df-a56e-17e1be8b642e",
      "metadata": {
        "id": "258aba4f-1193-40df-a56e-17e1be8b642e"
      },
      "source": [
        "We need *all* key and value elements in order to compute attention scores for the second input element. So we first need to expand the input sequence embeddings to size 3:"
      ]
    },
    {
      "cell_type": "code",
      "execution_count": 178,
      "id": "4137d861-010b-4864-a5f2-ea56844c4aec",
      "metadata": {
        "colab": {
          "base_uri": "https://localhost:8080/"
        },
        "id": "4137d861-010b-4864-a5f2-ea56844c4aec",
        "outputId": "806ea1dc-c58e-4dbd-c532-9a9387792f6f"
      },
      "outputs": [
        {
          "output_type": "stream",
          "name": "stdout",
          "text": [
            "torch.Size([3, 16, 6])\n"
          ]
        }
      ],
      "source": [
        "stacked_inputs = embedded_sentence.T.repeat(3, 1, 1)\n",
        "print(stacked_inputs.shape)"
      ]
    },
    {
      "cell_type": "markdown",
      "id": "f445fc04-2355-4a13-8dd9-0d7584be084e",
      "metadata": {
        "id": "f445fc04-2355-4a13-8dd9-0d7584be084e"
      },
      "source": [
        "Now we compute *all* keys and values via PyTorch's batch matrix multiplication:"
      ]
    },
    {
      "cell_type": "code",
      "execution_count": 179,
      "id": "a6ca4945-99c4-4c37-b43f-b84edecc8311",
      "metadata": {
        "colab": {
          "base_uri": "https://localhost:8080/"
        },
        "id": "a6ca4945-99c4-4c37-b43f-b84edecc8311",
        "outputId": "74c3af2c-3654-4703-e1ea-4777a1b0b916"
      },
      "outputs": [
        {
          "output_type": "stream",
          "name": "stdout",
          "text": [
            "multihead_keys.shape: torch.Size([3, 24, 6])\n",
            "multihead_values.shape: torch.Size([3, 28, 6])\n"
          ]
        }
      ],
      "source": [
        "multihead_keys = torch.bmm(multihead_W_key, stacked_inputs)\n",
        "multihead_values = torch.bmm(multihead_W_value, stacked_inputs)\n",
        "print(\"multihead_keys.shape:\", multihead_keys.shape)\n",
        "print(\"multihead_values.shape:\", multihead_values.shape)"
      ]
    },
    {
      "cell_type": "markdown",
      "id": "4285fb1a-bd6a-4bb0-b352-61d78a2542be",
      "metadata": {
        "id": "4285fb1a-bd6a-4bb0-b352-61d78a2542be"
      },
      "source": [
        "In order to make keys and values easier to interpret, we can swap their second and third dimensions, so that their shape is similar to the one of `embedded_sentence`:"
      ]
    },
    {
      "cell_type": "code",
      "execution_count": 180,
      "id": "ac255fad-22ff-4edd-b266-ef0688dc28d6",
      "metadata": {
        "colab": {
          "base_uri": "https://localhost:8080/"
        },
        "id": "ac255fad-22ff-4edd-b266-ef0688dc28d6",
        "outputId": "849d696d-e19e-4ed5-e0c6-5759e1dbbbff"
      },
      "outputs": [
        {
          "output_type": "stream",
          "name": "stdout",
          "text": [
            "multihead_keys.shape: torch.Size([3, 6, 24])\n",
            "multihead_values.shape: torch.Size([3, 6, 28])\n"
          ]
        }
      ],
      "source": [
        "multihead_keys = multihead_keys.permute(0, 2, 1)\n",
        "multihead_values = multihead_values.permute(0, 2, 1)\n",
        "print(\"multihead_keys.shape:\", multihead_keys.shape)\n",
        "print(\"multihead_values.shape:\", multihead_values.shape)"
      ]
    },
    {
      "cell_type": "markdown",
      "id": "991a6e22-0f93-4469-8863-c9e7e8842fc1",
      "metadata": {
        "id": "991a6e22-0f93-4469-8863-c9e7e8842fc1"
      },
      "source": [
        "Now we can follow the steps outlined for single-head attention in order to compute:\n",
        "\n",
        "1. Unscaled attention weights $\\omega$\n",
        "2. Scaled attention weights $\\alpha$\n",
        "3. $h$ $d_v$-dimensional context vectors $z_i^{(2)}, i = \\overline{1,h}$."
      ]
    },
    {
      "cell_type": "markdown",
      "id": "399fdb7d-deed-4efe-9864-5216b114d92f",
      "metadata": {
        "id": "399fdb7d-deed-4efe-9864-5216b114d92f"
      },
      "source": [
        "Final question remains - how do we construct a single $d_v$-dimensional vector expected by the subsequent layers in the architecture? By utilizing an additional learned matrix $W^o$ with dimensions $hd_v \\times d_v$, which get multiplied with stacked $z_i^{(2)}$ matrices via:\n",
        "$$\n",
        "z^{(2)} = \\left(z_1^{(2)} \\frown \\dots \\frown z_h^{(2)}\\right)W^o\n",
        "$$\n",
        "Computation of weights/scores/final context vector for multi-head attention is left as an **exercise**."
      ]
    },
    {
      "cell_type": "code",
      "source": [
        "import torch.nn.functional as F\n",
        "\n",
        "multihead_queries = torch.bmm(multihead_W_query, stacked_inputs)\n",
        "print(\"multihead_queries.shape:\", multihead_queries.shape)\n",
        "\n",
        "attention_scores = multihead_keys.bmm(multihead_queries)\n",
        "print(\"attention_scores.shape:\", attention_scores.shape)\n",
        "\n",
        "d_k = multihead_queries.size(-1)\n",
        "attention_weights = F.softmax(attention_scores / (d_k ** 0.5), dim=-1)\n",
        "print(\"attention_weights.shape:\", attention_weights.shape)\n",
        "\n",
        "context_vectors = attention_weights.transpose(-2, -1).bmm(multihead_values).transpose(-2, -1)\n",
        "print(\"context_vectors.shape:\", context_vectors.shape)\n",
        "\n",
        "W_output = torch.nn.Parameter(torch.rand(d_v * h, d_v))\n",
        "print(\"W_output.shape:\", W_output.shape)\n",
        "\n",
        "final_context = W_output.T @ context_vectors.reshape(-1, 6)\n",
        "print(\"final_context.shape:\", final_context.shape)\n",
        "\n",
        "print(final_context)\n"
      ],
      "metadata": {
        "colab": {
          "base_uri": "https://localhost:8080/"
        },
        "id": "XXgqxsASBewy",
        "outputId": "f846b0af-715a-4778-b815-5a8b90f2cd51"
      },
      "id": "XXgqxsASBewy",
      "execution_count": 181,
      "outputs": [
        {
          "output_type": "stream",
          "name": "stdout",
          "text": [
            "multihead_queries.shape: torch.Size([3, 24, 6])\n",
            "attention_scores.shape: torch.Size([3, 6, 6])\n",
            "attention_weights.shape: torch.Size([3, 6, 6])\n",
            "context_vectors.shape: torch.Size([3, 28, 6])\n",
            "W_output.shape: torch.Size([84, 28])\n",
            "final_context.shape: torch.Size([28, 6])\n",
            "tensor([[ 4.0896e-02, -3.4264e-04, -1.9216e+02, -4.2820e-02, -3.3769e-02,\n",
            "          1.1699e+02],\n",
            "        [ 3.0241e-02, -2.9074e-04, -2.3712e+02, -3.8028e-02, -3.4496e-02,\n",
            "          1.3699e+02],\n",
            "        [ 3.8418e-02,  1.5550e-05, -1.8847e+02, -3.7054e-03, -3.9817e-03,\n",
            "          1.1592e+02],\n",
            "        [ 1.7002e-02, -2.6866e-04, -2.1844e+02, -3.4931e-02, -3.5825e-02,\n",
            "          1.3128e+02],\n",
            "        [ 4.0694e-02, -2.4788e-04, -2.0304e+02, -3.2624e-02, -2.7242e-02,\n",
            "          1.1894e+02],\n",
            "        [ 3.8981e-02, -5.9892e-04, -2.3794e+02, -7.1452e-02, -6.3189e-02,\n",
            "          1.3102e+02],\n",
            "        [ 4.9119e-02, -5.1041e-05, -1.6964e+02, -1.1154e-02, -5.9654e-03,\n",
            "          1.0055e+02],\n",
            "        [ 3.6791e-02, -9.9137e-05, -1.9562e+02, -1.6645e-02, -1.4614e-02,\n",
            "          1.2888e+02],\n",
            "        [ 4.0582e-02, -2.6378e-04, -1.9665e+02, -3.3926e-02, -3.0957e-02,\n",
            "          1.2269e+02],\n",
            "        [ 3.3575e-02, -4.2837e-04, -2.2308e+02, -5.2253e-02, -4.7276e-02,\n",
            "          1.2173e+02],\n",
            "        [ 3.2990e-02, -4.5940e-04, -2.0231e+02, -5.5030e-02, -4.6720e-02,\n",
            "          1.1918e+02],\n",
            "        [ 4.2831e-02, -1.3026e-04, -2.0344e+02, -1.9707e-02, -1.5842e-02,\n",
            "          1.2544e+02],\n",
            "        [ 6.1910e-02,  1.3502e-04, -2.1725e+02,  7.6971e-03,  7.1293e-03,\n",
            "          1.3160e+02],\n",
            "        [ 2.9890e-02,  1.3631e-04, -1.8627e+02,  9.0704e-03,  3.8711e-03,\n",
            "          1.0879e+02],\n",
            "        [ 3.3209e-02, -3.2979e-04, -1.9999e+02, -4.1341e-02, -3.7359e-02,\n",
            "          1.2321e+02],\n",
            "        [ 2.1862e-02, -1.5118e-04, -1.7877e+02, -2.1021e-02, -2.0028e-02,\n",
            "          1.0221e+02],\n",
            "        [ 3.9158e-02, -5.3311e-05, -1.7361e+02, -1.0800e-02, -8.3167e-03,\n",
            "          1.0768e+02],\n",
            "        [ 4.9707e-02, -2.4508e-04, -1.9883e+02, -3.2609e-02, -2.7302e-02,\n",
            "          1.3094e+02],\n",
            "        [ 4.1443e-02,  1.4607e-05, -1.8815e+02, -3.8143e-03, -4.9255e-03,\n",
            "          1.1251e+02],\n",
            "        [ 3.3411e-02, -2.8640e-04, -1.9951e+02, -3.6782e-02, -3.2633e-02,\n",
            "          1.1721e+02],\n",
            "        [ 4.0373e-02, -2.2947e-05, -1.9323e+02, -7.5315e-03, -7.4577e-03,\n",
            "          1.1367e+02],\n",
            "        [ 3.0726e-02, -6.2256e-04, -2.3669e+02, -7.3958e-02, -6.3531e-02,\n",
            "          1.3036e+02],\n",
            "        [ 2.0864e-02, -2.8643e-04, -1.8734e+02, -3.6383e-02, -3.3718e-02,\n",
            "          1.1146e+02],\n",
            "        [ 3.4731e-02, -3.6849e-04, -2.1771e+02, -4.5608e-02, -4.0257e-02,\n",
            "          1.2718e+02],\n",
            "        [ 4.7174e-02, -2.6295e-04, -2.2124e+02, -3.4387e-02, -2.8640e-02,\n",
            "          1.2820e+02],\n",
            "        [ 5.5781e-02, -1.9277e-04, -2.1262e+02, -2.7584e-02, -1.9287e-02,\n",
            "          1.2460e+02],\n",
            "        [ 2.9301e-02, -5.6985e-04, -2.2225e+02, -6.7340e-02, -5.8876e-02,\n",
            "          1.3320e+02],\n",
            "        [ 4.8751e-02, -3.4920e-04, -2.0818e+02, -4.3574e-02, -3.3590e-02,\n",
            "          1.2721e+02]], grad_fn=<MmBackward0>)\n"
          ]
        }
      ]
    }
  ],
  "metadata": {
    "kernelspec": {
      "display_name": "Python 3 (ipykernel)",
      "language": "python",
      "name": "python3"
    },
    "language_info": {
      "codemirror_mode": {
        "name": "ipython",
        "version": 3
      },
      "file_extension": ".py",
      "mimetype": "text/x-python",
      "name": "python",
      "nbconvert_exporter": "python",
      "pygments_lexer": "ipython3",
      "version": "3.12.2"
    },
    "colab": {
      "provenance": []
    }
  },
  "nbformat": 4,
  "nbformat_minor": 5
}