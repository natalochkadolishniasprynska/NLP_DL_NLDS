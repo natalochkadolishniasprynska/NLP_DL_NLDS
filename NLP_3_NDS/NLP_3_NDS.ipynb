{
  "nbformat": 4,
  "nbformat_minor": 0,
  "metadata": {
    "colab": {
      "provenance": []
    },
    "kernelspec": {
      "name": "python3",
      "display_name": "Python 3"
    },
    "language_info": {
      "name": "python"
    }
  },
  "cells": [
    {
      "cell_type": "markdown",
      "source": [
        "# **Task 1**"
      ],
      "metadata": {
        "id": "DkXEdtSAP_p3"
      }
    },
    {
      "cell_type": "code",
      "execution_count": null,
      "metadata": {
        "colab": {
          "base_uri": "https://localhost:8080/"
        },
        "id": "WwlMvOmoyWUP",
        "outputId": "ed815a68-65f0-44d6-a182-14d32de9ad48"
      },
      "outputs": [
        {
          "output_type": "stream",
          "name": "stdout",
          "text": [
            "Damerau-Levenshtein distance between 'kitten' and 'sitting': 5.0\n"
          ]
        }
      ],
      "source": [
        "import numpy as np\n",
        "\n",
        "def cost_between_keys(key1, key2):\n",
        "    qwerty_layout = [\n",
        "        '1234567890-=',\n",
        "        'qwertyuiop[]',\n",
        "        'asdfghjkl;\\'',\n",
        "        'zxcvbnm,./'\n",
        "    ]\n",
        "    for row_idx, row in enumerate(qwerty_layout):\n",
        "        if key1 in row:\n",
        "            col_idx_key1 = row.index(key1)\n",
        "            row_idx_key1 = row_idx\n",
        "        if key2 in row:\n",
        "            col_idx_key2 = row.index(key2)\n",
        "            row_idx_key2 = row_idx\n",
        "    return abs(row_idx_key1 - row_idx_key2) + abs(col_idx_key1 - col_idx_key2)\n",
        "\n",
        "def damerau_levenshtein_distance(s1, s2):\n",
        "    n, m = len(s1), len(s2)\n",
        "    d = np.zeros((n + 1, m + 1))\n",
        "\n",
        "    for i in range(1, n + 1):\n",
        "        d[i][0] = i\n",
        "\n",
        "    for j in range(1, m + 1):\n",
        "        d[0][j] = j\n",
        "\n",
        "    for i in range(1, n + 1):\n",
        "        for j in range(1, m + 1):\n",
        "            if s1[i-1] == s2[j-1]:\n",
        "                subst_cost = 0\n",
        "            else:\n",
        "                subst_cost = cost_between_keys(s1[i-1], s2[j-1])\n",
        "\n",
        "            d[i][j] = min(d[i-1][j] + 1,\n",
        "                          d[i][j-1] + 1,\n",
        "                          d[i-1][j-1] + subst_cost)\n",
        "\n",
        "            if i > 1 and j > 1 and s1[i-1] == s2[j-2] and s1[i-2] == s2[j-1]:\n",
        "                d[i][j] = min(d[i][j], d[i-2][j-2] + subst_cost)\n",
        "\n",
        "    return d[n][m]\n",
        "\n",
        "str1 = \"kitten\"\n",
        "str2 = \"sitting\"\n",
        "distance = damerau_levenshtein_distance(str1, str2)\n",
        "print(\"Damerau-Levenshtein distance between '{}' and '{}':\".format(str1, str2), distance)"
      ]
    },
    {
      "cell_type": "markdown",
      "source": [
        "# **Task 2**"
      ],
      "metadata": {
        "id": "YiRZ2DjbQILD"
      }
    },
    {
      "cell_type": "code",
      "source": [
        "import nltk\n",
        "from nltk.corpus import gutenberg\n",
        "import numpy as np\n",
        "\n",
        "corpus_text_sense = gutenberg.raw('austen-sense.txt')\n",
        "tokens_sense = nltk.word_tokenize(corpus_text_sense)\n",
        "vocabulary_sense = set(tokens_sense)\n",
        "word_counts_sense = {word: tokens_sense.count(word) for word in vocabulary_sense}\n",
        "document_vector_sense = np.array([word_counts_sense.get(word, 0) for word in vocabulary_sense])\n",
        "\n",
        "corpus_text_moby = gutenberg.raw('melville-moby_dick.txt')\n",
        "tokens_moby = nltk.word_tokenize(corpus_text_moby)\n",
        "vocabulary_moby = set(tokens_moby)\n",
        "word_counts_moby = {word: tokens_moby.count(word) for word in vocabulary_moby}\n",
        "document_vector_moby = np.array([word_counts_moby.get(word, 0) for word in vocabulary_sense])\n",
        "\n",
        "\n",
        "def dot_product(v1, v2):\n",
        "    return np.dot(v1, v2)\n",
        "distance = dot_product(document_vector_sense, document_vector_moby)\n",
        "\n",
        "print(\"Distance between Sense and Moby Dick:\", distance)"
      ],
      "metadata": {
        "colab": {
          "base_uri": "https://localhost:8080/"
        },
        "id": "MRn_LIBWK5Vg",
        "outputId": "9aac197d-0114-4838-c994-9da7ededdaed"
      },
      "execution_count": 11,
      "outputs": [
        {
          "output_type": "stream",
          "name": "stdout",
          "text": [
            "Distance between Sense and Moby Dick: 414061256\n"
          ]
        }
      ]
    }
  ]
}